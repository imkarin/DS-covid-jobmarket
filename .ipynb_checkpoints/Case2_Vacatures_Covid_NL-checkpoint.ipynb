{
 "cells": [
  {
   "cell_type": "markdown",
   "metadata": {},
   "source": [
    "<div style=\"width: 100%; height: 36vh; background-image: url('https://images.unsplash.com/photo-1604761550394-7690adbf0318?ixid=MXwxMjA3fDB8MHxwaG90by1wYWdlfHx8fGVufDB8fHw%3D&ixlib=rb-1.2.1&auto=format&fit=crop&w=1950&q=80'); background-size: cover; background-repeat: no-repeat; background-position: center 55%; opacity:.9\"></div>"
   ]
  },
  {
   "cell_type": "markdown",
   "metadata": {},
   "source": [
    "# How does COVID-19 impact the job market in the Netherlands?\n",
    "\n",
    "Does COVID-19 impact the job market in the Netherlands and if so, how does it affect your chances at finding a job in your industry? In this article we'll be looking at job offers in different job industries in the Netherlands, and comparing the numbers to COVID-19 statistics obtained from a global dataset.\n",
    "\n",
    "\n",
    "‎"
   ]
  },
  {
   "cell_type": "code",
   "execution_count": 2,
   "metadata": {},
   "outputs": [
    {
     "name": "stdout",
     "output_type": "stream",
     "text": [
      "Note: you may need to restart the kernel to use updated packages.\n"
     ]
    }
   ],
   "source": [
    "pip install -q -r requirements.txt"
   ]
  },
  {
   "cell_type": "code",
   "execution_count": 3,
   "metadata": {},
   "outputs": [],
   "source": [
    "import pandas as pd\n",
    "import numpy as np\n",
    "\n",
    "import matplotlib.pyplot as plt\n",
    "import seaborn as sns\n",
    "import ipywidgets as widgets"
   ]
  },
  {
   "cell_type": "markdown",
   "metadata": {},
   "source": [
    "‎\n",
    "## The global COVID-19 dataset\n",
    "\n",
    "First off, for our analysis, we need statistical data on COVID-19 over time. Preferably, we want to be able to see daily amounts of new COVID cases. [Our World In Data](https://github.com/owid/covid-19-data/tree/master/public/data) provides us with the perfect dataset for this purpose. We've downloaded their CSV dataset on March 1st 2021.\n",
    "\n",
    "\n",
    "\n",
    "### Importing & inspecting the dataset\n",
    "First, we'll import the global COVID-19 dataset. This complete COVID-19 dataset is a collection of the COVID-19 data maintained by [Our World in Data](https://ourworldindata.org/coronavirus). It is updated daily and includes data on confirmed cases, deaths, hospitalizations, testing, and vaccinations as well as other variables of potential interest.\n",
    "\n",
    "‎"
   ]
  },
  {
   "cell_type": "code",
   "execution_count": 4,
   "metadata": {},
   "outputs": [],
   "source": [
    "raw_cov_df = pd.read_csv('owid-covid-data.csv')"
   ]
  },
  {
   "cell_type": "code",
   "execution_count": 5,
   "metadata": {},
   "outputs": [
    {
     "data": {
      "text/html": [
       "<div>\n",
       "<style scoped>\n",
       "    .dataframe tbody tr th:only-of-type {\n",
       "        vertical-align: middle;\n",
       "    }\n",
       "\n",
       "    .dataframe tbody tr th {\n",
       "        vertical-align: top;\n",
       "    }\n",
       "\n",
       "    .dataframe thead th {\n",
       "        text-align: right;\n",
       "    }\n",
       "</style>\n",
       "<table border=\"1\" class=\"dataframe\">\n",
       "  <thead>\n",
       "    <tr style=\"text-align: right;\">\n",
       "      <th></th>\n",
       "      <th>iso_code</th>\n",
       "      <th>continent</th>\n",
       "      <th>location</th>\n",
       "      <th>date</th>\n",
       "      <th>total_cases</th>\n",
       "      <th>new_cases</th>\n",
       "      <th>new_cases_smoothed</th>\n",
       "      <th>total_deaths</th>\n",
       "      <th>new_deaths</th>\n",
       "      <th>new_deaths_smoothed</th>\n",
       "      <th>...</th>\n",
       "      <th>gdp_per_capita</th>\n",
       "      <th>extreme_poverty</th>\n",
       "      <th>cardiovasc_death_rate</th>\n",
       "      <th>diabetes_prevalence</th>\n",
       "      <th>female_smokers</th>\n",
       "      <th>male_smokers</th>\n",
       "      <th>handwashing_facilities</th>\n",
       "      <th>hospital_beds_per_thousand</th>\n",
       "      <th>life_expectancy</th>\n",
       "      <th>human_development_index</th>\n",
       "    </tr>\n",
       "  </thead>\n",
       "  <tbody>\n",
       "    <tr>\n",
       "      <th>0</th>\n",
       "      <td>AFG</td>\n",
       "      <td>Asia</td>\n",
       "      <td>Afghanistan</td>\n",
       "      <td>2020-02-24</td>\n",
       "      <td>1.0</td>\n",
       "      <td>1.0</td>\n",
       "      <td>NaN</td>\n",
       "      <td>NaN</td>\n",
       "      <td>NaN</td>\n",
       "      <td>NaN</td>\n",
       "      <td>...</td>\n",
       "      <td>1803.987</td>\n",
       "      <td>NaN</td>\n",
       "      <td>597.029</td>\n",
       "      <td>9.59</td>\n",
       "      <td>NaN</td>\n",
       "      <td>NaN</td>\n",
       "      <td>37.746</td>\n",
       "      <td>0.5</td>\n",
       "      <td>64.83</td>\n",
       "      <td>0.511</td>\n",
       "    </tr>\n",
       "    <tr>\n",
       "      <th>1</th>\n",
       "      <td>AFG</td>\n",
       "      <td>Asia</td>\n",
       "      <td>Afghanistan</td>\n",
       "      <td>2020-02-25</td>\n",
       "      <td>1.0</td>\n",
       "      <td>0.0</td>\n",
       "      <td>NaN</td>\n",
       "      <td>NaN</td>\n",
       "      <td>NaN</td>\n",
       "      <td>NaN</td>\n",
       "      <td>...</td>\n",
       "      <td>1803.987</td>\n",
       "      <td>NaN</td>\n",
       "      <td>597.029</td>\n",
       "      <td>9.59</td>\n",
       "      <td>NaN</td>\n",
       "      <td>NaN</td>\n",
       "      <td>37.746</td>\n",
       "      <td>0.5</td>\n",
       "      <td>64.83</td>\n",
       "      <td>0.511</td>\n",
       "    </tr>\n",
       "    <tr>\n",
       "      <th>2</th>\n",
       "      <td>AFG</td>\n",
       "      <td>Asia</td>\n",
       "      <td>Afghanistan</td>\n",
       "      <td>2020-02-26</td>\n",
       "      <td>1.0</td>\n",
       "      <td>0.0</td>\n",
       "      <td>NaN</td>\n",
       "      <td>NaN</td>\n",
       "      <td>NaN</td>\n",
       "      <td>NaN</td>\n",
       "      <td>...</td>\n",
       "      <td>1803.987</td>\n",
       "      <td>NaN</td>\n",
       "      <td>597.029</td>\n",
       "      <td>9.59</td>\n",
       "      <td>NaN</td>\n",
       "      <td>NaN</td>\n",
       "      <td>37.746</td>\n",
       "      <td>0.5</td>\n",
       "      <td>64.83</td>\n",
       "      <td>0.511</td>\n",
       "    </tr>\n",
       "    <tr>\n",
       "      <th>3</th>\n",
       "      <td>AFG</td>\n",
       "      <td>Asia</td>\n",
       "      <td>Afghanistan</td>\n",
       "      <td>2020-02-27</td>\n",
       "      <td>1.0</td>\n",
       "      <td>0.0</td>\n",
       "      <td>NaN</td>\n",
       "      <td>NaN</td>\n",
       "      <td>NaN</td>\n",
       "      <td>NaN</td>\n",
       "      <td>...</td>\n",
       "      <td>1803.987</td>\n",
       "      <td>NaN</td>\n",
       "      <td>597.029</td>\n",
       "      <td>9.59</td>\n",
       "      <td>NaN</td>\n",
       "      <td>NaN</td>\n",
       "      <td>37.746</td>\n",
       "      <td>0.5</td>\n",
       "      <td>64.83</td>\n",
       "      <td>0.511</td>\n",
       "    </tr>\n",
       "    <tr>\n",
       "      <th>4</th>\n",
       "      <td>AFG</td>\n",
       "      <td>Asia</td>\n",
       "      <td>Afghanistan</td>\n",
       "      <td>2020-02-28</td>\n",
       "      <td>1.0</td>\n",
       "      <td>0.0</td>\n",
       "      <td>NaN</td>\n",
       "      <td>NaN</td>\n",
       "      <td>NaN</td>\n",
       "      <td>NaN</td>\n",
       "      <td>...</td>\n",
       "      <td>1803.987</td>\n",
       "      <td>NaN</td>\n",
       "      <td>597.029</td>\n",
       "      <td>9.59</td>\n",
       "      <td>NaN</td>\n",
       "      <td>NaN</td>\n",
       "      <td>37.746</td>\n",
       "      <td>0.5</td>\n",
       "      <td>64.83</td>\n",
       "      <td>0.511</td>\n",
       "    </tr>\n",
       "  </tbody>\n",
       "</table>\n",
       "<p>5 rows × 59 columns</p>\n",
       "</div>"
      ],
      "text/plain": [
       "  iso_code continent     location        date  total_cases  new_cases  \\\n",
       "0      AFG      Asia  Afghanistan  2020-02-24          1.0        1.0   \n",
       "1      AFG      Asia  Afghanistan  2020-02-25          1.0        0.0   \n",
       "2      AFG      Asia  Afghanistan  2020-02-26          1.0        0.0   \n",
       "3      AFG      Asia  Afghanistan  2020-02-27          1.0        0.0   \n",
       "4      AFG      Asia  Afghanistan  2020-02-28          1.0        0.0   \n",
       "\n",
       "   new_cases_smoothed  total_deaths  new_deaths  new_deaths_smoothed  ...  \\\n",
       "0                 NaN           NaN         NaN                  NaN  ...   \n",
       "1                 NaN           NaN         NaN                  NaN  ...   \n",
       "2                 NaN           NaN         NaN                  NaN  ...   \n",
       "3                 NaN           NaN         NaN                  NaN  ...   \n",
       "4                 NaN           NaN         NaN                  NaN  ...   \n",
       "\n",
       "   gdp_per_capita  extreme_poverty  cardiovasc_death_rate  \\\n",
       "0        1803.987              NaN                597.029   \n",
       "1        1803.987              NaN                597.029   \n",
       "2        1803.987              NaN                597.029   \n",
       "3        1803.987              NaN                597.029   \n",
       "4        1803.987              NaN                597.029   \n",
       "\n",
       "   diabetes_prevalence  female_smokers  male_smokers  handwashing_facilities  \\\n",
       "0                 9.59             NaN           NaN                  37.746   \n",
       "1                 9.59             NaN           NaN                  37.746   \n",
       "2                 9.59             NaN           NaN                  37.746   \n",
       "3                 9.59             NaN           NaN                  37.746   \n",
       "4                 9.59             NaN           NaN                  37.746   \n",
       "\n",
       "   hospital_beds_per_thousand  life_expectancy  human_development_index  \n",
       "0                         0.5            64.83                    0.511  \n",
       "1                         0.5            64.83                    0.511  \n",
       "2                         0.5            64.83                    0.511  \n",
       "3                         0.5            64.83                    0.511  \n",
       "4                         0.5            64.83                    0.511  \n",
       "\n",
       "[5 rows x 59 columns]"
      ]
     },
     "execution_count": 5,
     "metadata": {},
     "output_type": "execute_result"
    }
   ],
   "source": [
    "raw_cov_df.head()"
   ]
  },
  {
   "cell_type": "markdown",
   "metadata": {},
   "source": [
    "### Getting data for the Netherlands only"
   ]
  },
  {
   "cell_type": "code",
   "execution_count": 6,
   "metadata": {},
   "outputs": [],
   "source": [
    "cov_df_nl = raw_cov_df[raw_cov_df['location'] == 'Netherlands']"
   ]
  },
  {
   "cell_type": "markdown",
   "metadata": {},
   "source": [
    "‎\n",
    "\n",
    "Now that the dataset is imported, it's time to discover its contents. We'll take a look at the columns and values that are inside."
   ]
  },
  {
   "cell_type": "code",
   "execution_count": 7,
   "metadata": {},
   "outputs": [
    {
     "name": "stdout",
     "output_type": "stream",
     "text": [
      "<class 'pandas.core.frame.DataFrame'>\n",
      "Int64Index: 372 entries, 45573 to 45944\n",
      "Data columns (total 59 columns):\n",
      " #   Column                                 Non-Null Count  Dtype  \n",
      "---  ------                                 --------------  -----  \n",
      " 0   iso_code                               372 non-null    object \n",
      " 1   continent                              372 non-null    object \n",
      " 2   location                               372 non-null    object \n",
      " 3   date                                   372 non-null    object \n",
      " 4   total_cases                            369 non-null    float64\n",
      " 5   new_cases                              369 non-null    float64\n",
      " 6   new_cases_smoothed                     364 non-null    float64\n",
      " 7   total_deaths                           361 non-null    float64\n",
      " 8   new_deaths                             361 non-null    float64\n",
      " 9   new_deaths_smoothed                    364 non-null    float64\n",
      " 10  total_cases_per_million                369 non-null    float64\n",
      " 11  new_cases_per_million                  369 non-null    float64\n",
      " 12  new_cases_smoothed_per_million         364 non-null    float64\n",
      " 13  total_deaths_per_million               361 non-null    float64\n",
      " 14  new_deaths_per_million                 361 non-null    float64\n",
      " 15  new_deaths_smoothed_per_million        364 non-null    float64\n",
      " 16  reproduction_rate                      359 non-null    float64\n",
      " 17  icu_patients                           361 non-null    float64\n",
      " 18  icu_patients_per_million               361 non-null    float64\n",
      " 19  hosp_patients                          359 non-null    float64\n",
      " 20  hosp_patients_per_million              359 non-null    float64\n",
      " 21  weekly_icu_admissions                  52 non-null     float64\n",
      " 22  weekly_icu_admissions_per_million      52 non-null     float64\n",
      " 23  weekly_hosp_admissions                 52 non-null     float64\n",
      " 24  weekly_hosp_admissions_per_million     52 non-null     float64\n",
      " 25  new_tests                              0 non-null      float64\n",
      " 26  total_tests                            50 non-null     float64\n",
      " 27  total_tests_per_thousand               50 non-null     float64\n",
      " 28  new_tests_per_thousand                 0 non-null      float64\n",
      " 29  new_tests_smoothed                     337 non-null    float64\n",
      " 30  new_tests_smoothed_per_thousand        337 non-null    float64\n",
      " 31  positive_rate                          50 non-null     float64\n",
      " 32  tests_per_case                         50 non-null     float64\n",
      " 33  tests_units                            344 non-null    object \n",
      " 34  total_vaccinations                     48 non-null     float64\n",
      " 35  people_vaccinated                      0 non-null      float64\n",
      " 36  people_fully_vaccinated                0 non-null      float64\n",
      " 37  new_vaccinations                       42 non-null     float64\n",
      " 38  new_vaccinations_smoothed              53 non-null     float64\n",
      " 39  total_vaccinations_per_hundred         48 non-null     float64\n",
      " 40  people_vaccinated_per_hundred          0 non-null      float64\n",
      " 41  people_fully_vaccinated_per_hundred    0 non-null      float64\n",
      " 42  new_vaccinations_smoothed_per_million  53 non-null     float64\n",
      " 43  stringency_index                       369 non-null    float64\n",
      " 44  population                             372 non-null    float64\n",
      " 45  population_density                     372 non-null    float64\n",
      " 46  median_age                             372 non-null    float64\n",
      " 47  aged_65_older                          372 non-null    float64\n",
      " 48  aged_70_older                          372 non-null    float64\n",
      " 49  gdp_per_capita                         372 non-null    float64\n",
      " 50  extreme_poverty                        0 non-null      float64\n",
      " 51  cardiovasc_death_rate                  372 non-null    float64\n",
      " 52  diabetes_prevalence                    372 non-null    float64\n",
      " 53  female_smokers                         372 non-null    float64\n",
      " 54  male_smokers                           372 non-null    float64\n",
      " 55  handwashing_facilities                 0 non-null      float64\n",
      " 56  hospital_beds_per_thousand             372 non-null    float64\n",
      " 57  life_expectancy                        372 non-null    float64\n",
      " 58  human_development_index                372 non-null    float64\n",
      "dtypes: float64(54), object(5)\n",
      "memory usage: 174.4+ KB\n"
     ]
    }
   ],
   "source": [
    "cov_df_nl.info()"
   ]
  },
  {
   "cell_type": "code",
   "execution_count": 8,
   "metadata": {},
   "outputs": [
    {
     "data": {
      "text/html": [
       "<div>\n",
       "<style scoped>\n",
       "    .dataframe tbody tr th:only-of-type {\n",
       "        vertical-align: middle;\n",
       "    }\n",
       "\n",
       "    .dataframe tbody tr th {\n",
       "        vertical-align: top;\n",
       "    }\n",
       "\n",
       "    .dataframe thead th {\n",
       "        text-align: right;\n",
       "    }\n",
       "</style>\n",
       "<table border=\"1\" class=\"dataframe\">\n",
       "  <thead>\n",
       "    <tr style=\"text-align: right;\">\n",
       "      <th></th>\n",
       "      <th>total_cases</th>\n",
       "      <th>new_cases</th>\n",
       "      <th>new_cases_smoothed</th>\n",
       "      <th>total_deaths</th>\n",
       "      <th>new_deaths</th>\n",
       "      <th>new_deaths_smoothed</th>\n",
       "      <th>total_cases_per_million</th>\n",
       "      <th>new_cases_per_million</th>\n",
       "      <th>new_cases_smoothed_per_million</th>\n",
       "      <th>total_deaths_per_million</th>\n",
       "      <th>...</th>\n",
       "      <th>gdp_per_capita</th>\n",
       "      <th>extreme_poverty</th>\n",
       "      <th>cardiovasc_death_rate</th>\n",
       "      <th>diabetes_prevalence</th>\n",
       "      <th>female_smokers</th>\n",
       "      <th>male_smokers</th>\n",
       "      <th>handwashing_facilities</th>\n",
       "      <th>hospital_beds_per_thousand</th>\n",
       "      <th>life_expectancy</th>\n",
       "      <th>human_development_index</th>\n",
       "    </tr>\n",
       "  </thead>\n",
       "  <tbody>\n",
       "    <tr>\n",
       "      <th>count</th>\n",
       "      <td>3.690000e+02</td>\n",
       "      <td>369.000000</td>\n",
       "      <td>364.000000</td>\n",
       "      <td>361.000000</td>\n",
       "      <td>361.000000</td>\n",
       "      <td>364.000000</td>\n",
       "      <td>369.000000</td>\n",
       "      <td>369.000000</td>\n",
       "      <td>364.000000</td>\n",
       "      <td>361.000000</td>\n",
       "      <td>...</td>\n",
       "      <td>3.720000e+02</td>\n",
       "      <td>0.0</td>\n",
       "      <td>3.720000e+02</td>\n",
       "      <td>3.720000e+02</td>\n",
       "      <td>3.720000e+02</td>\n",
       "      <td>3.720000e+02</td>\n",
       "      <td>0.0</td>\n",
       "      <td>3.720000e+02</td>\n",
       "      <td>3.720000e+02</td>\n",
       "      <td>3.720000e+02</td>\n",
       "    </tr>\n",
       "    <tr>\n",
       "      <th>mean</th>\n",
       "      <td>2.984033e+05</td>\n",
       "      <td>3000.940379</td>\n",
       "      <td>3004.449374</td>\n",
       "      <td>7356.800554</td>\n",
       "      <td>43.518006</td>\n",
       "      <td>42.875967</td>\n",
       "      <td>17414.969596</td>\n",
       "      <td>175.136428</td>\n",
       "      <td>175.341209</td>\n",
       "      <td>429.346670</td>\n",
       "      <td>...</td>\n",
       "      <td>4.847254e+04</td>\n",
       "      <td>NaN</td>\n",
       "      <td>1.093610e+02</td>\n",
       "      <td>5.290000e+00</td>\n",
       "      <td>2.440000e+01</td>\n",
       "      <td>2.730000e+01</td>\n",
       "      <td>NaN</td>\n",
       "      <td>3.320000e+00</td>\n",
       "      <td>8.228000e+01</td>\n",
       "      <td>9.440000e-01</td>\n",
       "    </tr>\n",
       "    <tr>\n",
       "      <th>std</th>\n",
       "      <td>3.593521e+05</td>\n",
       "      <td>3318.132059</td>\n",
       "      <td>3278.962996</td>\n",
       "      <td>3801.167934</td>\n",
       "      <td>45.553818</td>\n",
       "      <td>40.619822</td>\n",
       "      <td>20971.971995</td>\n",
       "      <td>193.647909</td>\n",
       "      <td>191.361970</td>\n",
       "      <td>221.838141</td>\n",
       "      <td>...</td>\n",
       "      <td>1.457151e-11</td>\n",
       "      <td>NaN</td>\n",
       "      <td>4.268998e-14</td>\n",
       "      <td>8.893746e-16</td>\n",
       "      <td>3.557498e-15</td>\n",
       "      <td>3.557498e-15</td>\n",
       "      <td>NaN</td>\n",
       "      <td>4.446873e-16</td>\n",
       "      <td>1.422999e-14</td>\n",
       "      <td>2.223437e-16</td>\n",
       "    </tr>\n",
       "    <tr>\n",
       "      <th>min</th>\n",
       "      <td>1.000000e+00</td>\n",
       "      <td>0.000000</td>\n",
       "      <td>3.429000</td>\n",
       "      <td>1.000000</td>\n",
       "      <td>-18.000000</td>\n",
       "      <td>-1.286000</td>\n",
       "      <td>0.058000</td>\n",
       "      <td>0.000000</td>\n",
       "      <td>0.200000</td>\n",
       "      <td>0.058000</td>\n",
       "      <td>...</td>\n",
       "      <td>4.847254e+04</td>\n",
       "      <td>NaN</td>\n",
       "      <td>1.093610e+02</td>\n",
       "      <td>5.290000e+00</td>\n",
       "      <td>2.440000e+01</td>\n",
       "      <td>2.730000e+01</td>\n",
       "      <td>NaN</td>\n",
       "      <td>3.320000e+00</td>\n",
       "      <td>8.228000e+01</td>\n",
       "      <td>9.440000e-01</td>\n",
       "    </tr>\n",
       "    <tr>\n",
       "      <th>25%</th>\n",
       "      <td>4.632800e+04</td>\n",
       "      <td>223.000000</td>\n",
       "      <td>225.678500</td>\n",
       "      <td>6009.000000</td>\n",
       "      <td>4.000000</td>\n",
       "      <td>3.857000</td>\n",
       "      <td>2703.726000</td>\n",
       "      <td>13.014000</td>\n",
       "      <td>13.170250</td>\n",
       "      <td>350.688000</td>\n",
       "      <td>...</td>\n",
       "      <td>4.847254e+04</td>\n",
       "      <td>NaN</td>\n",
       "      <td>1.093610e+02</td>\n",
       "      <td>5.290000e+00</td>\n",
       "      <td>2.440000e+01</td>\n",
       "      <td>2.730000e+01</td>\n",
       "      <td>NaN</td>\n",
       "      <td>3.320000e+00</td>\n",
       "      <td>8.228000e+01</td>\n",
       "      <td>9.440000e-01</td>\n",
       "    </tr>\n",
       "    <tr>\n",
       "      <th>50%</th>\n",
       "      <td>7.212800e+04</td>\n",
       "      <td>1092.000000</td>\n",
       "      <td>1028.000000</td>\n",
       "      <td>6267.000000</td>\n",
       "      <td>28.000000</td>\n",
       "      <td>36.357500</td>\n",
       "      <td>4209.427000</td>\n",
       "      <td>63.730000</td>\n",
       "      <td>59.994500</td>\n",
       "      <td>365.745000</td>\n",
       "      <td>...</td>\n",
       "      <td>4.847254e+04</td>\n",
       "      <td>NaN</td>\n",
       "      <td>1.093610e+02</td>\n",
       "      <td>5.290000e+00</td>\n",
       "      <td>2.440000e+01</td>\n",
       "      <td>2.730000e+01</td>\n",
       "      <td>NaN</td>\n",
       "      <td>3.320000e+00</td>\n",
       "      <td>8.228000e+01</td>\n",
       "      <td>9.440000e-01</td>\n",
       "    </tr>\n",
       "    <tr>\n",
       "      <th>75%</th>\n",
       "      <td>5.273360e+05</td>\n",
       "      <td>5208.000000</td>\n",
       "      <td>5331.750250</td>\n",
       "      <td>9518.000000</td>\n",
       "      <td>73.000000</td>\n",
       "      <td>68.464500</td>\n",
       "      <td>30775.600000</td>\n",
       "      <td>303.942000</td>\n",
       "      <td>311.164000</td>\n",
       "      <td>555.475000</td>\n",
       "      <td>...</td>\n",
       "      <td>4.847254e+04</td>\n",
       "      <td>NaN</td>\n",
       "      <td>1.093610e+02</td>\n",
       "      <td>5.290000e+00</td>\n",
       "      <td>2.440000e+01</td>\n",
       "      <td>2.730000e+01</td>\n",
       "      <td>NaN</td>\n",
       "      <td>3.320000e+00</td>\n",
       "      <td>8.228000e+01</td>\n",
       "      <td>9.440000e-01</td>\n",
       "    </tr>\n",
       "    <tr>\n",
       "      <th>max</th>\n",
       "      <td>1.107347e+06</td>\n",
       "      <td>13072.000000</td>\n",
       "      <td>11804.000000</td>\n",
       "      <td>15710.000000</td>\n",
       "      <td>234.000000</td>\n",
       "      <td>154.286000</td>\n",
       "      <td>64625.340000</td>\n",
       "      <td>762.889000</td>\n",
       "      <td>688.888000</td>\n",
       "      <td>916.844000</td>\n",
       "      <td>...</td>\n",
       "      <td>4.847254e+04</td>\n",
       "      <td>NaN</td>\n",
       "      <td>1.093610e+02</td>\n",
       "      <td>5.290000e+00</td>\n",
       "      <td>2.440000e+01</td>\n",
       "      <td>2.730000e+01</td>\n",
       "      <td>NaN</td>\n",
       "      <td>3.320000e+00</td>\n",
       "      <td>8.228000e+01</td>\n",
       "      <td>9.440000e-01</td>\n",
       "    </tr>\n",
       "  </tbody>\n",
       "</table>\n",
       "<p>8 rows × 54 columns</p>\n",
       "</div>"
      ],
      "text/plain": [
       "        total_cases     new_cases  new_cases_smoothed  total_deaths  \\\n",
       "count  3.690000e+02    369.000000          364.000000    361.000000   \n",
       "mean   2.984033e+05   3000.940379         3004.449374   7356.800554   \n",
       "std    3.593521e+05   3318.132059         3278.962996   3801.167934   \n",
       "min    1.000000e+00      0.000000            3.429000      1.000000   \n",
       "25%    4.632800e+04    223.000000          225.678500   6009.000000   \n",
       "50%    7.212800e+04   1092.000000         1028.000000   6267.000000   \n",
       "75%    5.273360e+05   5208.000000         5331.750250   9518.000000   \n",
       "max    1.107347e+06  13072.000000        11804.000000  15710.000000   \n",
       "\n",
       "       new_deaths  new_deaths_smoothed  total_cases_per_million  \\\n",
       "count  361.000000           364.000000               369.000000   \n",
       "mean    43.518006            42.875967             17414.969596   \n",
       "std     45.553818            40.619822             20971.971995   \n",
       "min    -18.000000            -1.286000                 0.058000   \n",
       "25%      4.000000             3.857000              2703.726000   \n",
       "50%     28.000000            36.357500              4209.427000   \n",
       "75%     73.000000            68.464500             30775.600000   \n",
       "max    234.000000           154.286000             64625.340000   \n",
       "\n",
       "       new_cases_per_million  new_cases_smoothed_per_million  \\\n",
       "count             369.000000                      364.000000   \n",
       "mean              175.136428                      175.341209   \n",
       "std               193.647909                      191.361970   \n",
       "min                 0.000000                        0.200000   \n",
       "25%                13.014000                       13.170250   \n",
       "50%                63.730000                       59.994500   \n",
       "75%               303.942000                      311.164000   \n",
       "max               762.889000                      688.888000   \n",
       "\n",
       "       total_deaths_per_million  ...  gdp_per_capita  extreme_poverty  \\\n",
       "count                361.000000  ...    3.720000e+02              0.0   \n",
       "mean                 429.346670  ...    4.847254e+04              NaN   \n",
       "std                  221.838141  ...    1.457151e-11              NaN   \n",
       "min                    0.058000  ...    4.847254e+04              NaN   \n",
       "25%                  350.688000  ...    4.847254e+04              NaN   \n",
       "50%                  365.745000  ...    4.847254e+04              NaN   \n",
       "75%                  555.475000  ...    4.847254e+04              NaN   \n",
       "max                  916.844000  ...    4.847254e+04              NaN   \n",
       "\n",
       "       cardiovasc_death_rate  diabetes_prevalence  female_smokers  \\\n",
       "count           3.720000e+02         3.720000e+02    3.720000e+02   \n",
       "mean            1.093610e+02         5.290000e+00    2.440000e+01   \n",
       "std             4.268998e-14         8.893746e-16    3.557498e-15   \n",
       "min             1.093610e+02         5.290000e+00    2.440000e+01   \n",
       "25%             1.093610e+02         5.290000e+00    2.440000e+01   \n",
       "50%             1.093610e+02         5.290000e+00    2.440000e+01   \n",
       "75%             1.093610e+02         5.290000e+00    2.440000e+01   \n",
       "max             1.093610e+02         5.290000e+00    2.440000e+01   \n",
       "\n",
       "       male_smokers  handwashing_facilities  hospital_beds_per_thousand  \\\n",
       "count  3.720000e+02                     0.0                3.720000e+02   \n",
       "mean   2.730000e+01                     NaN                3.320000e+00   \n",
       "std    3.557498e-15                     NaN                4.446873e-16   \n",
       "min    2.730000e+01                     NaN                3.320000e+00   \n",
       "25%    2.730000e+01                     NaN                3.320000e+00   \n",
       "50%    2.730000e+01                     NaN                3.320000e+00   \n",
       "75%    2.730000e+01                     NaN                3.320000e+00   \n",
       "max    2.730000e+01                     NaN                3.320000e+00   \n",
       "\n",
       "       life_expectancy  human_development_index  \n",
       "count     3.720000e+02             3.720000e+02  \n",
       "mean      8.228000e+01             9.440000e-01  \n",
       "std       1.422999e-14             2.223437e-16  \n",
       "min       8.228000e+01             9.440000e-01  \n",
       "25%       8.228000e+01             9.440000e-01  \n",
       "50%       8.228000e+01             9.440000e-01  \n",
       "75%       8.228000e+01             9.440000e-01  \n",
       "max       8.228000e+01             9.440000e-01  \n",
       "\n",
       "[8 rows x 54 columns]"
      ]
     },
     "execution_count": 8,
     "metadata": {},
     "output_type": "execute_result"
    }
   ],
   "source": [
    "cov_df_nl.describe()"
   ]
  },
  {
   "cell_type": "markdown",
   "metadata": {},
   "source": [
    "‎\n",
    "\n",
    "### Cleaning up the dataset\n",
    "In order to speed up our process, we'll get rid of columns we don't need. The columns we're interested in are:\n",
    "\n",
    "* Date\n",
    "* New cases\n",
    "* Total amount of cases\n",
    "* New deaths\n",
    "* Total amount of deaths\n",
    "* Amount of hospitalized patients\n",
    "\n",
    "We'll create our new dataframe by making a subset:"
   ]
  },
  {
   "cell_type": "code",
   "execution_count": 9,
   "metadata": {
    "scrolled": true
   },
   "outputs": [
    {
     "data": {
      "text/plain": [
       "Index(['date', 'total_cases', 'new_cases', 'total_deaths', 'new_deaths',\n",
       "       'total_cases_per_million', 'new_cases_per_million',\n",
       "       'total_deaths_per_million', 'new_deaths_per_million', 'hosp_patients',\n",
       "       'hosp_patients_per_million'],\n",
       "      dtype='object')"
      ]
     },
     "execution_count": 9,
     "metadata": {},
     "output_type": "execute_result"
    }
   ],
   "source": [
    "cov_df = cov_df_nl[['date', 'total_cases', 'new_cases', 'total_deaths',\n",
    "                    'new_deaths', 'total_cases_per_million', 'new_cases_per_million',\n",
    "                    'total_deaths_per_million', 'new_deaths_per_million',\n",
    "                    'hosp_patients', 'hosp_patients_per_million']]\n",
    "\n",
    "cov_df.columns"
   ]
  },
  {
   "cell_type": "markdown",
   "metadata": {},
   "source": [
    "### Visualizing the data\n",
    "\n",
    "We want to see the amount of new COVID cases per month, as well as the new deaths per month and the average amount of hospitalized patients per day for every month.\n",
    "\n",
    "In order to achieve this, we must first group the dataset into months. We'll add a column containing the month to which the day in the 'date' column belongs, so that we can group the observations by month.\n",
    "\n",
    "\n"
   ]
  },
  {
   "cell_type": "code",
   "execution_count": null,
   "metadata": {
    "scrolled": false
   },
   "outputs": [],
   "source": [
    "# Adding 'datetime' column that contains the YYYY-MM for each day\n",
    "cov_df['datetime'] = pd.to_datetime(cov_df['date'])\n",
    "cov_df['datetime'] = cov_df['datetime'].dt.date.apply(lambda x: x.strftime('%Y-%m'))"
   ]
  },
  {
   "cell_type": "code",
   "execution_count": 27,
   "metadata": {},
   "outputs": [
    {
     "data": {
      "text/html": [
       "<div>\n",
       "<style scoped>\n",
       "    .dataframe tbody tr th:only-of-type {\n",
       "        vertical-align: middle;\n",
       "    }\n",
       "\n",
       "    .dataframe tbody tr th {\n",
       "        vertical-align: top;\n",
       "    }\n",
       "\n",
       "    .dataframe thead th {\n",
       "        text-align: right;\n",
       "    }\n",
       "</style>\n",
       "<table border=\"1\" class=\"dataframe\">\n",
       "  <thead>\n",
       "    <tr style=\"text-align: right;\">\n",
       "      <th></th>\n",
       "      <th>datetime</th>\n",
       "      <th>new_cases</th>\n",
       "      <th>new_deaths</th>\n",
       "      <th>hosp_patients</th>\n",
       "    </tr>\n",
       "  </thead>\n",
       "  <tbody>\n",
       "    <tr>\n",
       "      <th>0</th>\n",
       "      <td>2020-02</td>\n",
       "      <td>6.0</td>\n",
       "      <td>0.0</td>\n",
       "      <td>6.666667</td>\n",
       "    </tr>\n",
       "    <tr>\n",
       "      <th>1</th>\n",
       "      <td>2020-03</td>\n",
       "      <td>12661.0</td>\n",
       "      <td>1040.0</td>\n",
       "      <td>1222.064516</td>\n",
       "    </tr>\n",
       "    <tr>\n",
       "      <th>2</th>\n",
       "      <td>2020-04</td>\n",
       "      <td>26845.0</td>\n",
       "      <td>3771.0</td>\n",
       "      <td>2258.000000</td>\n",
       "    </tr>\n",
       "    <tr>\n",
       "      <th>3</th>\n",
       "      <td>2020-05</td>\n",
       "      <td>7133.0</td>\n",
       "      <td>1164.0</td>\n",
       "      <td>996.193548</td>\n",
       "    </tr>\n",
       "    <tr>\n",
       "      <th>4</th>\n",
       "      <td>2020-06</td>\n",
       "      <td>3838.0</td>\n",
       "      <td>157.0</td>\n",
       "      <td>301.866667</td>\n",
       "    </tr>\n",
       "    <tr>\n",
       "      <th>5</th>\n",
       "      <td>2020-07</td>\n",
       "      <td>4107.0</td>\n",
       "      <td>34.0</td>\n",
       "      <td>83.161290</td>\n",
       "    </tr>\n",
       "    <tr>\n",
       "      <th>6</th>\n",
       "      <td>2020-08</td>\n",
       "      <td>18642.0</td>\n",
       "      <td>86.0</td>\n",
       "      <td>105.870968</td>\n",
       "    </tr>\n",
       "    <tr>\n",
       "      <th>7</th>\n",
       "      <td>2020-09</td>\n",
       "      <td>52756.0</td>\n",
       "      <td>205.0</td>\n",
       "      <td>246.433333</td>\n",
       "    </tr>\n",
       "    <tr>\n",
       "      <th>8</th>\n",
       "      <td>2020-10</td>\n",
       "      <td>231652.0</td>\n",
       "      <td>1002.0</td>\n",
       "      <td>1233.419355</td>\n",
       "    </tr>\n",
       "    <tr>\n",
       "      <th>9</th>\n",
       "      <td>2020-11</td>\n",
       "      <td>174290.0</td>\n",
       "      <td>1994.0</td>\n",
       "      <td>1565.733333</td>\n",
       "    </tr>\n",
       "    <tr>\n",
       "      <th>10</th>\n",
       "      <td>2020-12</td>\n",
       "      <td>276452.0</td>\n",
       "      <td>2072.0</td>\n",
       "      <td>1474.451613</td>\n",
       "    </tr>\n",
       "    <tr>\n",
       "      <th>11</th>\n",
       "      <td>2021-01</td>\n",
       "      <td>183693.0</td>\n",
       "      <td>2583.0</td>\n",
       "      <td>1808.903226</td>\n",
       "    </tr>\n",
       "    <tr>\n",
       "      <th>12</th>\n",
       "      <td>2021-02</td>\n",
       "      <td>111489.0</td>\n",
       "      <td>1580.0</td>\n",
       "      <td>1441.714286</td>\n",
       "    </tr>\n",
       "    <tr>\n",
       "      <th>13</th>\n",
       "      <td>2021-03</td>\n",
       "      <td>3783.0</td>\n",
       "      <td>22.0</td>\n",
       "      <td>NaN</td>\n",
       "    </tr>\n",
       "  </tbody>\n",
       "</table>\n",
       "</div>"
      ],
      "text/plain": [
       "   datetime  new_cases  new_deaths  hosp_patients\n",
       "0   2020-02        6.0         0.0       6.666667\n",
       "1   2020-03    12661.0      1040.0    1222.064516\n",
       "2   2020-04    26845.0      3771.0    2258.000000\n",
       "3   2020-05     7133.0      1164.0     996.193548\n",
       "4   2020-06     3838.0       157.0     301.866667\n",
       "5   2020-07     4107.0        34.0      83.161290\n",
       "6   2020-08    18642.0        86.0     105.870968\n",
       "7   2020-09    52756.0       205.0     246.433333\n",
       "8   2020-10   231652.0      1002.0    1233.419355\n",
       "9   2020-11   174290.0      1994.0    1565.733333\n",
       "10  2020-12   276452.0      2072.0    1474.451613\n",
       "11  2021-01   183693.0      2583.0    1808.903226\n",
       "12  2021-02   111489.0      1580.0    1441.714286\n",
       "13  2021-03     3783.0        22.0            NaN"
      ]
     },
     "execution_count": 27,
     "metadata": {},
     "output_type": "execute_result"
    }
   ],
   "source": [
    "# new dataset with monthly data contains: sum of new_cases, sum of new_deaths, average of hosp_patients per day\n",
    "cov_df_month = cov_df.groupby('datetime').agg({'new_cases' : 'sum',\n",
    "                                               'new_deaths' : 'sum',\n",
    "                                               'hosp_patients' : 'mean'}).reset_index()\n",
    "cov_df_month"
   ]
  },
  {
   "cell_type": "code",
   "execution_count": 12,
   "metadata": {
    "scrolled": true
   },
   "outputs": [
    {
     "data": {
      "image/png": "[encoded data removed]",
      "text/plain": [
       "<Figure size 432x288 with 1 Axes>"
      ]
     },
     "metadata": {
      "needs_background": "light"
     },
     "output_type": "display_data"
    }
   ],
   "source": [
    "sns.barplot(x='datetime', y='new_cases', data=cov_df_month, color='b', ci=False)\n",
    "plt.xticks(rotation=90)\n",
    "plt.title('New COVID cases per month in the Netherlands')\n",
    "plt.xlabel('Date')\n",
    "plt.ylabel('New COVID cases')\n",
    "plt.show()"
   ]
  },
  {
   "cell_type": "markdown",
   "metadata": {},
   "source": [
    "‎\n",
    "\n",
    "## The CBS job-offer dataset\n",
    "For information on the amount of job offers in the Netherlands, we'll use the 'Vacature-indicator' dataset from [Dataportal of CBS](https://dataportal.cbs.nl/list), retrieved at 01 March 2021. CBS stands for Centraal Bureau voor de Statistiek -'Central Statistics Office' - a Dutch governmental institution that gathers all kinds of statistical information about the Netherlands, mostly on social and economic topics. We've selected the years 2010-2021 and all four of the job industries provided in the dataset.\n",
    "\n",
    "\n",
    "\n",
    "### Importing & inspecting the dataset\n",
    "Now it's time to import the vacature dateset by CBS. First, we'll import the whole dataset and inspect it.\n",
    "\n",
    "As we can see, the dataset contains information on several job industries. It shows the job-offer indicator per industry per month, starting in January 2010."
   ]
  },
  {
   "cell_type": "code",
   "execution_count": 13,
   "metadata": {},
   "outputs": [
    {
     "data": {
      "text/html": [
       "<div>\n",
       "<style scoped>\n",
       "    .dataframe tbody tr th:only-of-type {\n",
       "        vertical-align: middle;\n",
       "    }\n",
       "\n",
       "    .dataframe tbody tr th {\n",
       "        vertical-align: top;\n",
       "    }\n",
       "\n",
       "    .dataframe thead th {\n",
       "        text-align: right;\n",
       "    }\n",
       "</style>\n",
       "<table border=\"1\" class=\"dataframe\">\n",
       "  <thead>\n",
       "    <tr style=\"text-align: right;\">\n",
       "      <th></th>\n",
       "      <th>BedrijfstakkenBranchesSBI2008_code</th>\n",
       "      <th>BedrijfstakkenBranchesSBI2008_title</th>\n",
       "      <th>Perioden_code</th>\n",
       "      <th>Perioden_title</th>\n",
       "      <th>Measure</th>\n",
       "      <th>Unit</th>\n",
       "      <th>Value</th>\n",
       "    </tr>\n",
       "  </thead>\n",
       "  <tbody>\n",
       "    <tr>\n",
       "      <th>0</th>\n",
       "      <td>300007</td>\n",
       "      <td>G-N Commerciële dienstverlening</td>\n",
       "      <td>2010MM01</td>\n",
       "      <td>2010 januari</td>\n",
       "      <td>Vacature-indicator</td>\n",
       "      <td>%</td>\n",
       "      <td>-0.84</td>\n",
       "    </tr>\n",
       "    <tr>\n",
       "      <th>1</th>\n",
       "      <td>350000</td>\n",
       "      <td>F Bouwnijverheid</td>\n",
       "      <td>2010MM01</td>\n",
       "      <td>2010 januari</td>\n",
       "      <td>Vacature-indicator</td>\n",
       "      <td>%</td>\n",
       "      <td>-1.00</td>\n",
       "    </tr>\n",
       "    <tr>\n",
       "      <th>2</th>\n",
       "      <td>307500</td>\n",
       "      <td>C Industrie</td>\n",
       "      <td>2010MM01</td>\n",
       "      <td>2010 januari</td>\n",
       "      <td>Vacature-indicator</td>\n",
       "      <td>%</td>\n",
       "      <td>-0.69</td>\n",
       "    </tr>\n",
       "    <tr>\n",
       "      <th>3</th>\n",
       "      <td>T001081</td>\n",
       "      <td>A-U Alle economische activiteiten</td>\n",
       "      <td>2010MM01</td>\n",
       "      <td>2010 januari</td>\n",
       "      <td>Vacature-indicator</td>\n",
       "      <td>%</td>\n",
       "      <td>-0.82</td>\n",
       "    </tr>\n",
       "    <tr>\n",
       "      <th>4</th>\n",
       "      <td>300007</td>\n",
       "      <td>G-N Commerciële dienstverlening</td>\n",
       "      <td>2010MM02</td>\n",
       "      <td>2010 februari</td>\n",
       "      <td>Vacature-indicator</td>\n",
       "      <td>%</td>\n",
       "      <td>-0.65</td>\n",
       "    </tr>\n",
       "    <tr>\n",
       "      <th>...</th>\n",
       "      <td>...</td>\n",
       "      <td>...</td>\n",
       "      <td>...</td>\n",
       "      <td>...</td>\n",
       "      <td>...</td>\n",
       "      <td>...</td>\n",
       "      <td>...</td>\n",
       "    </tr>\n",
       "    <tr>\n",
       "      <th>527</th>\n",
       "      <td>T001081</td>\n",
       "      <td>A-U Alle economische activiteiten</td>\n",
       "      <td>2020MM12</td>\n",
       "      <td>2020 december**</td>\n",
       "      <td>Vacature-indicator</td>\n",
       "      <td>%</td>\n",
       "      <td>-0.28</td>\n",
       "    </tr>\n",
       "    <tr>\n",
       "      <th>528</th>\n",
       "      <td>300007</td>\n",
       "      <td>G-N Commerciële dienstverlening</td>\n",
       "      <td>2021MM01</td>\n",
       "      <td>2021 januari*</td>\n",
       "      <td>Vacature-indicator</td>\n",
       "      <td>%</td>\n",
       "      <td>-0.19</td>\n",
       "    </tr>\n",
       "    <tr>\n",
       "      <th>529</th>\n",
       "      <td>350000</td>\n",
       "      <td>F Bouwnijverheid</td>\n",
       "      <td>2021MM01</td>\n",
       "      <td>2021 januari*</td>\n",
       "      <td>Vacature-indicator</td>\n",
       "      <td>%</td>\n",
       "      <td>-0.21</td>\n",
       "    </tr>\n",
       "    <tr>\n",
       "      <th>530</th>\n",
       "      <td>307500</td>\n",
       "      <td>C Industrie</td>\n",
       "      <td>2021MM01</td>\n",
       "      <td>2021 januari*</td>\n",
       "      <td>Vacature-indicator</td>\n",
       "      <td>%</td>\n",
       "      <td>0.08</td>\n",
       "    </tr>\n",
       "    <tr>\n",
       "      <th>531</th>\n",
       "      <td>T001081</td>\n",
       "      <td>A-U Alle economische activiteiten</td>\n",
       "      <td>2021MM01</td>\n",
       "      <td>2021 januari*</td>\n",
       "      <td>Vacature-indicator</td>\n",
       "      <td>%</td>\n",
       "      <td>-0.16</td>\n",
       "    </tr>\n",
       "  </tbody>\n",
       "</table>\n",
       "<p>532 rows × 7 columns</p>\n",
       "</div>"
      ],
      "text/plain": [
       "    BedrijfstakkenBranchesSBI2008_code BedrijfstakkenBranchesSBI2008_title  \\\n",
       "0                               300007     G-N Commerciële dienstverlening   \n",
       "1                               350000                    F Bouwnijverheid   \n",
       "2                               307500                         C Industrie   \n",
       "3                              T001081   A-U Alle economische activiteiten   \n",
       "4                               300007     G-N Commerciële dienstverlening   \n",
       "..                                 ...                                 ...   \n",
       "527                            T001081   A-U Alle economische activiteiten   \n",
       "528                             300007     G-N Commerciële dienstverlening   \n",
       "529                             350000                    F Bouwnijverheid   \n",
       "530                             307500                         C Industrie   \n",
       "531                            T001081   A-U Alle economische activiteiten   \n",
       "\n",
       "    Perioden_code   Perioden_title             Measure Unit  Value  \n",
       "0        2010MM01     2010 januari  Vacature-indicator    %  -0.84  \n",
       "1        2010MM01     2010 januari  Vacature-indicator    %  -1.00  \n",
       "2        2010MM01     2010 januari  Vacature-indicator    %  -0.69  \n",
       "3        2010MM01     2010 januari  Vacature-indicator    %  -0.82  \n",
       "4        2010MM02    2010 februari  Vacature-indicator    %  -0.65  \n",
       "..            ...              ...                 ...  ...    ...  \n",
       "527      2020MM12  2020 december**  Vacature-indicator    %  -0.28  \n",
       "528      2021MM01    2021 januari*  Vacature-indicator    %  -0.19  \n",
       "529      2021MM01    2021 januari*  Vacature-indicator    %  -0.21  \n",
       "530      2021MM01    2021 januari*  Vacature-indicator    %   0.08  \n",
       "531      2021MM01    2021 januari*  Vacature-indicator    %  -0.16  \n",
       "\n",
       "[532 rows x 7 columns]"
      ]
     },
     "execution_count": 13,
     "metadata": {},
     "output_type": "execute_result"
    }
   ],
   "source": [
    "raw_vac_df = pd.read_csv('84287NED_2021-03-02T12_52_35.csv', sep=\";\")\n",
    "\n",
    "raw_vac_df"
   ]
  },
  {
   "cell_type": "code",
   "execution_count": 14,
   "metadata": {},
   "outputs": [
    {
     "name": "stdout",
     "output_type": "stream",
     "text": [
      "<class 'pandas.core.frame.DataFrame'>\n",
      "RangeIndex: 532 entries, 0 to 531\n",
      "Data columns (total 7 columns):\n",
      " #   Column                               Non-Null Count  Dtype  \n",
      "---  ------                               --------------  -----  \n",
      " 0   BedrijfstakkenBranchesSBI2008_code   532 non-null    object \n",
      " 1   BedrijfstakkenBranchesSBI2008_title  532 non-null    object \n",
      " 2   Perioden_code                        532 non-null    object \n",
      " 3   Perioden_title                       532 non-null    object \n",
      " 4   Measure                              532 non-null    object \n",
      " 5   Unit                                 532 non-null    object \n",
      " 6   Value                                532 non-null    float64\n",
      "dtypes: float64(1), object(6)\n",
      "memory usage: 29.2+ KB\n"
     ]
    }
   ],
   "source": [
    "raw_vac_df.info()"
   ]
  },
  {
   "cell_type": "markdown",
   "metadata": {},
   "source": [
    "### Cleaning up the dataset.\n",
    "\n",
    "We don't need all the columns provided in the dataset. Some columns contain the exact same information as others, just in a different shape. For example, the 'Perioden_title' column contains the year and month specified in 'Perioden_code', just written in words.\n",
    "\n",
    "We'll drop the columns we don't need:"
   ]
  },
  {
   "cell_type": "code",
   "execution_count": 15,
   "metadata": {},
   "outputs": [
    {
     "data": {
      "text/html": [
       "<div>\n",
       "<style scoped>\n",
       "    .dataframe tbody tr th:only-of-type {\n",
       "        vertical-align: middle;\n",
       "    }\n",
       "\n",
       "    .dataframe tbody tr th {\n",
       "        vertical-align: top;\n",
       "    }\n",
       "\n",
       "    .dataframe thead th {\n",
       "        text-align: right;\n",
       "    }\n",
       "</style>\n",
       "<table border=\"1\" class=\"dataframe\">\n",
       "  <thead>\n",
       "    <tr style=\"text-align: right;\">\n",
       "      <th></th>\n",
       "      <th>BedrijfstakkenBranchesSBI2008_title</th>\n",
       "      <th>Perioden_code</th>\n",
       "      <th>Value</th>\n",
       "    </tr>\n",
       "  </thead>\n",
       "  <tbody>\n",
       "    <tr>\n",
       "      <th>0</th>\n",
       "      <td>G-N Commerciële dienstverlening</td>\n",
       "      <td>2010MM01</td>\n",
       "      <td>-0.84</td>\n",
       "    </tr>\n",
       "    <tr>\n",
       "      <th>1</th>\n",
       "      <td>F Bouwnijverheid</td>\n",
       "      <td>2010MM01</td>\n",
       "      <td>-1.00</td>\n",
       "    </tr>\n",
       "    <tr>\n",
       "      <th>2</th>\n",
       "      <td>C Industrie</td>\n",
       "      <td>2010MM01</td>\n",
       "      <td>-0.69</td>\n",
       "    </tr>\n",
       "    <tr>\n",
       "      <th>3</th>\n",
       "      <td>A-U Alle economische activiteiten</td>\n",
       "      <td>2010MM01</td>\n",
       "      <td>-0.82</td>\n",
       "    </tr>\n",
       "    <tr>\n",
       "      <th>4</th>\n",
       "      <td>G-N Commerciële dienstverlening</td>\n",
       "      <td>2010MM02</td>\n",
       "      <td>-0.65</td>\n",
       "    </tr>\n",
       "  </tbody>\n",
       "</table>\n",
       "</div>"
      ],
      "text/plain": [
       "  BedrijfstakkenBranchesSBI2008_title Perioden_code  Value\n",
       "0     G-N Commerciële dienstverlening      2010MM01  -0.84\n",
       "1                    F Bouwnijverheid      2010MM01  -1.00\n",
       "2                         C Industrie      2010MM01  -0.69\n",
       "3   A-U Alle economische activiteiten      2010MM01  -0.82\n",
       "4     G-N Commerciële dienstverlening      2010MM02  -0.65"
      ]
     },
     "execution_count": 15,
     "metadata": {},
     "output_type": "execute_result"
    }
   ],
   "source": [
    "vac_df = raw_vac_df.drop(columns=['BedrijfstakkenBranchesSBI2008_code', 'Perioden_title', 'Unit', 'Measure'])\n",
    "\n",
    "vac_df.head()"
   ]
  },
  {
   "cell_type": "markdown",
   "metadata": {},
   "source": [
    "We'll also have to reformat the dates in this dataset, they need to have the same format as the dates in the COVID-19 dataframe."
   ]
  },
  {
   "cell_type": "code",
   "execution_count": 16,
   "metadata": {},
   "outputs": [],
   "source": [
    "vac_df['datetime'] = vac_df['Perioden_code'].replace('MM', '-', regex=True)\n",
    "vac_df = vac_df.drop(columns=['Perioden_code'])"
   ]
  },
  {
   "cell_type": "markdown",
   "metadata": {},
   "source": [
    "‎\n",
    "\n",
    "\n",
    "\n",
    "## Merging the two dataframes\n",
    "\n",
    "Now it's time to put all our cleaned up data together. We'll merge the dataset with job-offer indicators on the dataset with the dataset that contains the new COVID cases/million per month. We'll use a right join, as the dates for the job-offer indicators reach much further back than the COVID dataset, but we still want to maintain these rows."
   ]
  },
  {
   "cell_type": "code",
   "execution_count": 17,
   "metadata": {
    "scrolled": false
   },
   "outputs": [
    {
     "data": {
      "text/html": [
       "<div>\n",
       "<style scoped>\n",
       "    .dataframe tbody tr th:only-of-type {\n",
       "        vertical-align: middle;\n",
       "    }\n",
       "\n",
       "    .dataframe tbody tr th {\n",
       "        vertical-align: top;\n",
       "    }\n",
       "\n",
       "    .dataframe thead th {\n",
       "        text-align: right;\n",
       "    }\n",
       "</style>\n",
       "<table border=\"1\" class=\"dataframe\">\n",
       "  <thead>\n",
       "    <tr style=\"text-align: right;\">\n",
       "      <th></th>\n",
       "      <th>datetime</th>\n",
       "      <th>new_cases</th>\n",
       "      <th>new_deaths</th>\n",
       "      <th>hosp_patients</th>\n",
       "      <th>job_industry</th>\n",
       "      <th>joboffer_indicator</th>\n",
       "    </tr>\n",
       "  </thead>\n",
       "  <tbody>\n",
       "    <tr>\n",
       "      <th>0</th>\n",
       "      <td>2010-01</td>\n",
       "      <td>NaN</td>\n",
       "      <td>NaN</td>\n",
       "      <td>NaN</td>\n",
       "      <td>G-N Commerciële dienstverlening</td>\n",
       "      <td>-0.84</td>\n",
       "    </tr>\n",
       "    <tr>\n",
       "      <th>1</th>\n",
       "      <td>2010-01</td>\n",
       "      <td>NaN</td>\n",
       "      <td>NaN</td>\n",
       "      <td>NaN</td>\n",
       "      <td>F Bouwnijverheid</td>\n",
       "      <td>-1.00</td>\n",
       "    </tr>\n",
       "    <tr>\n",
       "      <th>2</th>\n",
       "      <td>2010-01</td>\n",
       "      <td>NaN</td>\n",
       "      <td>NaN</td>\n",
       "      <td>NaN</td>\n",
       "      <td>C Industrie</td>\n",
       "      <td>-0.69</td>\n",
       "    </tr>\n",
       "    <tr>\n",
       "      <th>3</th>\n",
       "      <td>2010-01</td>\n",
       "      <td>NaN</td>\n",
       "      <td>NaN</td>\n",
       "      <td>NaN</td>\n",
       "      <td>A-U Alle economische activiteiten</td>\n",
       "      <td>-0.82</td>\n",
       "    </tr>\n",
       "    <tr>\n",
       "      <th>4</th>\n",
       "      <td>2010-02</td>\n",
       "      <td>NaN</td>\n",
       "      <td>NaN</td>\n",
       "      <td>NaN</td>\n",
       "      <td>G-N Commerciële dienstverlening</td>\n",
       "      <td>-0.65</td>\n",
       "    </tr>\n",
       "  </tbody>\n",
       "</table>\n",
       "</div>"
      ],
      "text/plain": [
       "  datetime  new_cases  new_deaths  hosp_patients  \\\n",
       "0  2010-01        NaN         NaN            NaN   \n",
       "1  2010-01        NaN         NaN            NaN   \n",
       "2  2010-01        NaN         NaN            NaN   \n",
       "3  2010-01        NaN         NaN            NaN   \n",
       "4  2010-02        NaN         NaN            NaN   \n",
       "\n",
       "                        job_industry  joboffer_indicator  \n",
       "0    G-N Commerciële dienstverlening               -0.84  \n",
       "1                   F Bouwnijverheid               -1.00  \n",
       "2                        C Industrie               -0.69  \n",
       "3  A-U Alle economische activiteiten               -0.82  \n",
       "4    G-N Commerciële dienstverlening               -0.65  "
      ]
     },
     "execution_count": 17,
     "metadata": {},
     "output_type": "execute_result"
    }
   ],
   "source": [
    "cov_vac = cov_df_month.merge(vac_df, on='datetime', how='right')\n",
    "\n",
    "# Renaming the columns so they're easier to use\n",
    "cov_vac = cov_vac.rename(columns={'BedrijfstakkenBranchesSBI2008_title' : 'job_industry',\n",
    "                                  'Value' : 'joboffer_indicator'})\n",
    "\n",
    "cov_vac.head()"
   ]
  },
  {
   "cell_type": "markdown",
   "metadata": {},
   "source": [
    "The NaN values in the columns originating from the `cov_df` are due to the fact that there were no COVID cases registered before February 2020. We'll fill these values with with zero."
   ]
  },
  {
   "cell_type": "code",
   "execution_count": 18,
   "metadata": {
    "scrolled": false
   },
   "outputs": [
    {
     "name": "stdout",
     "output_type": "stream",
     "text": [
      "<class 'pandas.core.frame.DataFrame'>\n",
      "Int64Index: 532 entries, 0 to 531\n",
      "Data columns (total 6 columns):\n",
      " #   Column              Non-Null Count  Dtype  \n",
      "---  ------              --------------  -----  \n",
      " 0   datetime            532 non-null    object \n",
      " 1   new_cases           532 non-null    float64\n",
      " 2   new_deaths          532 non-null    float64\n",
      " 3   hosp_patients       532 non-null    float64\n",
      " 4   job_industry        532 non-null    object \n",
      " 5   joboffer_indicator  532 non-null    float64\n",
      "dtypes: float64(4), object(2)\n",
      "memory usage: 29.1+ KB\n"
     ]
    }
   ],
   "source": [
    "cov_vac = cov_vac.fillna(0)\n",
    "\n",
    "# Checking if there's any null-values\n",
    "\n",
    "cov_vac.info()"
   ]
  },
  {
   "cell_type": "code",
   "execution_count": 19,
   "metadata": {},
   "outputs": [],
   "source": [
    "# Let's see what the df looks like before we start analyzing it\n",
    "def show_df_rows(Rows):\n",
    "    return cov_vac.iloc[Rows[0]:Rows[1]]"
   ]
  },
  {
   "cell_type": "code",
   "execution_count": 20,
   "metadata": {},
   "outputs": [
    {
     "data": {
      "application/vnd.jupyter.widget-view+json": {
       "model_id": "2bfd687206ce4c4bbf9fceef7783ccb9",
       "version_major": 2,
       "version_minor": 0
      },
      "text/plain": [
       "interactive(children=(IntRangeSlider(value=(0, 100), description='Rows', max=532), Output()), _dom_classes=('w…"
      ]
     },
     "metadata": {},
     "output_type": "display_data"
    }
   ],
   "source": [
    "widgets.interact(show_df_rows, Rows=widgets.IntRangeSlider(value = [0,100],\n",
    "                                                           min = 0,\n",
    "                                                           max = len(cov_vac)));"
   ]
  },
  {
   "cell_type": "markdown",
   "metadata": {},
   "source": [
    "‎\n",
    "\n",
    "## Exploring correlation between the COVID and job-offer data\n",
    "\n",
    "Now that we've merged the two dataframes containing the columns we're interested in, it's time to see if there's any correlation between them. Specifically, we want to see if any of the selected COVID-columns have a particularly high correlation with the job-offer indicator.\n",
    "\n",
    "\n",
    "In order to get a more accurate result, we'll filter the dataset to only look at dates starting in March 2020: this is when COVID really became present in the Netherlands. Let's see if the monthly COVID statistics correlate with the amount of job offers.\n",
    "\n",
    "‎"
   ]
  },
  {
   "cell_type": "code",
   "execution_count": 21,
   "metadata": {
    "scrolled": false
   },
   "outputs": [
    {
     "data": {
      "text/html": [
       "<div>\n",
       "<style scoped>\n",
       "    .dataframe tbody tr th:only-of-type {\n",
       "        vertical-align: middle;\n",
       "    }\n",
       "\n",
       "    .dataframe tbody tr th {\n",
       "        vertical-align: top;\n",
       "    }\n",
       "\n",
       "    .dataframe thead th {\n",
       "        text-align: right;\n",
       "    }\n",
       "</style>\n",
       "<table border=\"1\" class=\"dataframe\">\n",
       "  <thead>\n",
       "    <tr style=\"text-align: right;\">\n",
       "      <th></th>\n",
       "      <th>new_cases</th>\n",
       "      <th>new_deaths</th>\n",
       "      <th>hosp_patients</th>\n",
       "      <th>joboffer_indicator</th>\n",
       "    </tr>\n",
       "  </thead>\n",
       "  <tbody>\n",
       "    <tr>\n",
       "      <th>new_cases</th>\n",
       "      <td>1.000000</td>\n",
       "      <td>0.389291</td>\n",
       "      <td>0.487171</td>\n",
       "      <td>0.669956</td>\n",
       "    </tr>\n",
       "    <tr>\n",
       "      <th>new_deaths</th>\n",
       "      <td>0.389291</td>\n",
       "      <td>1.000000</td>\n",
       "      <td>0.959812</td>\n",
       "      <td>0.314106</td>\n",
       "    </tr>\n",
       "    <tr>\n",
       "      <th>hosp_patients</th>\n",
       "      <td>0.487171</td>\n",
       "      <td>0.959812</td>\n",
       "      <td>1.000000</td>\n",
       "      <td>0.395987</td>\n",
       "    </tr>\n",
       "    <tr>\n",
       "      <th>joboffer_indicator</th>\n",
       "      <td>0.669956</td>\n",
       "      <td>0.314106</td>\n",
       "      <td>0.395987</td>\n",
       "      <td>1.000000</td>\n",
       "    </tr>\n",
       "  </tbody>\n",
       "</table>\n",
       "</div>"
      ],
      "text/plain": [
       "                    new_cases  new_deaths  hosp_patients  joboffer_indicator\n",
       "new_cases            1.000000    0.389291       0.487171            0.669956\n",
       "new_deaths           0.389291    1.000000       0.959812            0.314106\n",
       "hosp_patients        0.487171    0.959812       1.000000            0.395987\n",
       "joboffer_indicator   0.669956    0.314106       0.395987            1.000000"
      ]
     },
     "execution_count": 21,
     "metadata": {},
     "output_type": "execute_result"
    }
   ],
   "source": [
    "cov_vac_2020 = cov_vac[cov_vac['datetime'].astype('datetime64[ns]') >= pd.to_datetime('2020-03-01')]\n",
    "cov_vac_2020.corr()"
   ]
  },
  {
   "cell_type": "markdown",
   "metadata": {},
   "source": [
    "It seems that the biggest amount of correlation is between the amount of new COVID cases in a month and the job-offer indicator: `0.67`. We'll explore  this further by visualizing the relationship between these two values."
   ]
  },
  {
   "cell_type": "markdown",
   "metadata": {},
   "source": [
    "‎\n",
    "\n",
    "\n",
    "\n",
    "## Visualizing the relationship: monthly new cases vs. job-offer indicator\n",
    "\n",
    "First, let's see the progression of the job-offer indicator over time for each of the 4 job industries over time."
   ]
  },
  {
   "cell_type": "code",
   "execution_count": 22,
   "metadata": {},
   "outputs": [
    {
     "data": {
      "image/png": "[encoded data removed]",
      "text/plain": [
       "<Figure size 1080x576 with 1 Axes>"
      ]
     },
     "metadata": {
      "needs_background": "light"
     },
     "output_type": "display_data"
    }
   ],
   "source": [
    "jobplot = sns.lineplot(x='datetime', \n",
    "             y='joboffer_indicator',\n",
    "             hue='job_industry',\n",
    "             data=cov_vac)\n",
    "\n",
    "# Adding title and labels\n",
    "plt.xlabel(\"Date\", size=12)\n",
    "plt.ylabel(\"Job-offer indicator\", size=12)\n",
    "plt.title(\"Job-offer indicator per job industry (2010-2021)\", size=20)\n",
    "plt.xticks(rotation=90)\n",
    "\n",
    "for ind, label in enumerate(jobplot.get_xticklabels()):\n",
    "    if ind % 10 == 0:  # every 10th label is kept\n",
    "        label.set_visible(True)\n",
    "    else:\n",
    "        label.set_visible(False)\n",
    "\n",
    "# Making the graph bigger\n",
    "fig = plt.gcf()\n",
    "fig.set_size_inches(15, 8)\n",
    "\n",
    "plt.show()"
   ]
  },
  {
   "cell_type": "markdown",
   "metadata": {},
   "source": [
    "‎\n",
    "\n",
    "Interesting. In the graph, we find that job offers in all industries went down by a lot, starting around december 2019. We know that in the Netherlands, the first news of COVID started around november 2019.\n",
    "\n",
    "Now, let's take a further look at the exact numbers of COVID cases in the Netherlands. We'll visualize the progression of new corona cases per month, starting at november 2019."
   ]
  },
  {
   "cell_type": "code",
   "execution_count": 23,
   "metadata": {},
   "outputs": [
    {
     "data": {
      "text/html": [
       "<div>\n",
       "<style scoped>\n",
       "    .dataframe tbody tr th:only-of-type {\n",
       "        vertical-align: middle;\n",
       "    }\n",
       "\n",
       "    .dataframe tbody tr th {\n",
       "        vertical-align: top;\n",
       "    }\n",
       "\n",
       "    .dataframe thead th {\n",
       "        text-align: right;\n",
       "    }\n",
       "</style>\n",
       "<table border=\"1\" class=\"dataframe\">\n",
       "  <thead>\n",
       "    <tr style=\"text-align: right;\">\n",
       "      <th></th>\n",
       "      <th>datetime</th>\n",
       "      <th>new_cases</th>\n",
       "      <th>new_deaths</th>\n",
       "      <th>hosp_patients</th>\n",
       "      <th>job_industry</th>\n",
       "      <th>joboffer_indicator</th>\n",
       "    </tr>\n",
       "  </thead>\n",
       "  <tbody>\n",
       "    <tr>\n",
       "      <th>0</th>\n",
       "      <td>2010-01-01</td>\n",
       "      <td>0.0</td>\n",
       "      <td>0.0</td>\n",
       "      <td>0.0</td>\n",
       "      <td>G-N Commerciële dienstverlening</td>\n",
       "      <td>-0.84</td>\n",
       "    </tr>\n",
       "    <tr>\n",
       "      <th>1</th>\n",
       "      <td>2010-01-01</td>\n",
       "      <td>0.0</td>\n",
       "      <td>0.0</td>\n",
       "      <td>0.0</td>\n",
       "      <td>F Bouwnijverheid</td>\n",
       "      <td>-1.00</td>\n",
       "    </tr>\n",
       "    <tr>\n",
       "      <th>2</th>\n",
       "      <td>2010-01-01</td>\n",
       "      <td>0.0</td>\n",
       "      <td>0.0</td>\n",
       "      <td>0.0</td>\n",
       "      <td>C Industrie</td>\n",
       "      <td>-0.69</td>\n",
       "    </tr>\n",
       "    <tr>\n",
       "      <th>3</th>\n",
       "      <td>2010-01-01</td>\n",
       "      <td>0.0</td>\n",
       "      <td>0.0</td>\n",
       "      <td>0.0</td>\n",
       "      <td>A-U Alle economische activiteiten</td>\n",
       "      <td>-0.82</td>\n",
       "    </tr>\n",
       "    <tr>\n",
       "      <th>4</th>\n",
       "      <td>2010-02-01</td>\n",
       "      <td>0.0</td>\n",
       "      <td>0.0</td>\n",
       "      <td>0.0</td>\n",
       "      <td>G-N Commerciële dienstverlening</td>\n",
       "      <td>-0.65</td>\n",
       "    </tr>\n",
       "  </tbody>\n",
       "</table>\n",
       "</div>"
      ],
      "text/plain": [
       "    datetime  new_cases  new_deaths  hosp_patients  \\\n",
       "0 2010-01-01        0.0         0.0            0.0   \n",
       "1 2010-01-01        0.0         0.0            0.0   \n",
       "2 2010-01-01        0.0         0.0            0.0   \n",
       "3 2010-01-01        0.0         0.0            0.0   \n",
       "4 2010-02-01        0.0         0.0            0.0   \n",
       "\n",
       "                        job_industry  joboffer_indicator  \n",
       "0    G-N Commerciële dienstverlening               -0.84  \n",
       "1                   F Bouwnijverheid               -1.00  \n",
       "2                        C Industrie               -0.69  \n",
       "3  A-U Alle economische activiteiten               -0.82  \n",
       "4    G-N Commerciële dienstverlening               -0.65  "
      ]
     },
     "execution_count": 23,
     "metadata": {},
     "output_type": "execute_result"
    }
   ],
   "source": [
    "# Turn the dates (currently strings) into datetime objects, so we can filter them\n",
    "cov_vac['datetime'] = pd.to_datetime(cov_vac['datetime'], format='%Y-%m')\n",
    "\n",
    "cov_vac.head()"
   ]
  },
  {
   "cell_type": "code",
   "execution_count": 24,
   "metadata": {},
   "outputs": [
    {
     "data": {
      "application/vnd.jupyter.widget-view+json": {
       "model_id": "b0c4b750e627497aa29c1be67806ac43",
       "version_major": 2,
       "version_minor": 0
      },
      "text/plain": [
       "VBox(children=(HBox(children=(Checkbox(value=False, description='Zoom in'), Checkbox(value=False, description=…"
      ]
     },
     "metadata": {},
     "output_type": "display_data"
    }
   ],
   "source": [
    "# Checkboxes for zooming in/out\n",
    "checkbox1 = widgets.Checkbox(value = False,\n",
    "                             description = 'Zoom in',\n",
    "                             disabled = False)\n",
    "\n",
    "\n",
    "checkbox2 = widgets.Checkbox(value = False,\n",
    "                             description = 'Zoom out',\n",
    "                             disabled = False)\n",
    "\n",
    "\n",
    "def change_data(val):\n",
    "    if val == True:\n",
    "        data = cov_vac[cov_vac['datetime'] > pd.to_datetime('2019-11-01')]\n",
    "    else:\n",
    "        data = cov_vac\n",
    "    \n",
    "    covplot = sns.lineplot(x='datetime', \n",
    "                 y='new_cases',\n",
    "                 data=data)\n",
    "\n",
    "    # Adding title and labels\n",
    "    plt.xlabel(\"Date\", size=12)\n",
    "    plt.ylabel(\"New corona cases\", size=12)\n",
    "    plt.title(\"New corona cases per month\", size=20)\n",
    "    plt.xticks(rotation=90)\n",
    "\n",
    "    # Making the graph bigger\n",
    "    fig = plt.gcf()\n",
    "    fig.set_size_inches(15, 8)\n",
    "    plt.show()\n",
    "\n",
    "\n",
    "# Bind checkboxes to change_data function and disable one when the other is checked\n",
    "out = widgets.interactive_output(change_data, {'val':checkbox1})\n",
    "\n",
    "widgets.jslink((checkbox2, 'disabled'), (checkbox1, 'value'));\n",
    "widgets.jslink((checkbox1, 'disabled'), (checkbox2, 'value'));\n",
    "widgets.VBox([widgets.HBox([checkbox1, checkbox2]), out])"
   ]
  },
  {
   "cell_type": "markdown",
   "metadata": {},
   "source": [
    "‎\n",
    "\n",
    "Now let's see if there's overlap in the graphs. We'll put both of them in the same figure, using the overlapping dates.\n",
    "\n",
    "\n",
    "Specifically, we want to see if the amount of COVID cases impacts certain job fields more than others. We'll plot the job-offer indicators of each job field separately, together with the new COVID cases of the month.\n",
    "\n",
    "‎\n"
   ]
  },
  {
   "cell_type": "code",
   "execution_count": 25,
   "metadata": {
    "scrolled": false
   },
   "outputs": [],
   "source": [
    "def draw_plot(selection_y, selection_hue):\n",
    "    # Setting the selected variables\n",
    "    y = cov_vac[cov_vac[\"job_industry\"] == selection_y]['joboffer_indicator']\n",
    "    hue = selection_hue;\n",
    "\n",
    "    # Plotting the joboffer indicator per job field\n",
    "    ax = sns.lineplot(x = 'datetime', \n",
    "                      y = y,                      # <--- Selected y\n",
    "                      hue = hue,                  # <--- Selected hue\n",
    "                      data = cov_vac)\n",
    "    \n",
    "    if selection_hue:                             # <--- Only show legend if there's multiple lines\n",
    "        ax.legend(loc='upper left')\n",
    "    \n",
    "    ax.set_ylabel('Job-offer indicator')\n",
    "    ax.set_xlabel('Year')\n",
    "\n",
    "    # Plotting the new_cases line\n",
    "    ax2 = ax.twinx()\n",
    "    cov_vac.plot(x = \"datetime\",\n",
    "                 y = \"new_cases\",\n",
    "                 ax = ax2,\n",
    "                 color = \"0\")\n",
    "    ax2.legend(loc = 'lower left')\n",
    "    ax2.set_ylabel('New COVID cases per month')\n",
    "\n",
    "    # Resizing the plot\n",
    "    fig = plt.gcf()\n",
    "    fig.set_size_inches(14, 6)\n",
    "    \n",
    "    # Add titles and show plot\n",
    "    plt.title(\"COVID cases vs. job-offer indicator in the Netherlands, per month\", size = 14)\n",
    "    plt.show()"
   ]
  },
  {
   "cell_type": "code",
   "execution_count": 26,
   "metadata": {},
   "outputs": [
    {
     "data": {
      "application/vnd.jupyter.widget-view+json": {
       "model_id": "f3eba2e20ce04b6e8824758fbcfe368a",
       "version_major": 2,
       "version_minor": 0
      },
      "text/plain": [
       "interactive(children=(Dropdown(description='View: ', options=(('All industries', True), ('Specific industry', …"
      ]
     },
     "metadata": {},
     "output_type": "display_data"
    },
    {
     "data": {
      "application/vnd.jupyter.widget-view+json": {
       "model_id": "580dc3aaa7e641d1966aa4b501fbfa00",
       "version_major": 2,
       "version_minor": 0
      },
      "text/plain": [
       "interactive(children=(Dropdown(description='Industry: ', disabled=True, options=(('F Construction industry', '…"
      ]
     },
     "metadata": {},
     "output_type": "display_data"
    }
   ],
   "source": [
    "# Dropdown1: if \"View all industries is selected, disable the \"Industry\" dropdown\n",
    "def toggle_dropdown2(val):\n",
    "    dropdown2.disabled = val\n",
    "    dropdown2.value = None\n",
    "\n",
    "dropdown1 = widgets.Dropdown(\n",
    "                options = [('All industries', True),\n",
    "                           ('Specific industry', False)],\n",
    "                description = 'View: ')\n",
    "\n",
    "\n",
    "\n",
    "# Dropdown 2: chooses a specific industry to plot (y)\n",
    "def select_y(Industry):\n",
    "    if not dropdown2.disabled and not dropdown2.value == None:    # Plots selected industry\n",
    "        draw_plot(Industry, None)\n",
    "    else:                                                         # Plots all industries if disabled/empty\n",
    "        draw_plot(cov_vac[\"job_industry\"], 'job_industry')\n",
    "\n",
    "dropdown2 = widgets.Dropdown(\n",
    "                value = None,\n",
    "                options = [('F Construction industry', 'F Bouwnijverheid'),\n",
    "                           ('C Manifacturing industry', 'C Industrie'),\n",
    "                           ('G-N Commercial services', 'G-N Commerciële dienstverlening'),\n",
    "                           ('A-U All economic activities', 'A-U Alle economische activiteiten')],\n",
    "                description = 'Industry: ',\n",
    "                disabled=True)\n",
    "\n",
    "\n",
    "\n",
    "# Link the dropdowns to their corresponding functions\n",
    "widgets.interact(toggle_dropdown2, val=dropdown1);\n",
    "widgets.interact(select_y, Industry=dropdown2);"
   ]
  },
  {
   "cell_type": "markdown",
   "metadata": {},
   "source": [
    "## Concusion\n",
    "\n",
    "What conclusions can we draw from this research? A couple of things caught our attention:\n",
    "\n",
    "* The job-offer indicator quickly dropped in november 2019, about two months before the first cases of COVID-19 were discovered in the Netherlands. We suspect that the reason for this is that the first news about corona started spreading in the Netherlands around this time. Companies probably realized that a tough time would be a head and started preparing themselves.\n",
    "‎\n",
    "\n",
    "\n",
    "* It seems like the amount of job offers in the manifacturing industry (C) went down the hardest during the COVID-19 crisis. We suspect that this is the industry where employees physically work in a factory, while the government strictly encouraged people to work from home as much as possible - or at least keep a distance of 6 feet.\n",
    "‎\n",
    "\n",
    "\n",
    "* The lowest point of the job-offer indicator for all job industries is just after the first wave of COVID-19 cases. After that, the amount job-offers started increasing again. We suspect that after the first wave of COVID-cases, people got more accustomed to the government's measures and working from home. Companies might've slowly found their way in the new way of working, and started hiring people again.\n",
    "‎\n",
    "\n",
    "That's it! In the future, we'd definitely like to dive deeper into the ways that COVID-19 affected the Dutch job market and find out what other factors played a role. An interesting project would be to predict our chances at finding a job in a certain industry, based on the predicted amount COVID-19 cases for the coming months.\n",
    "\n",
    "We hope you enjoyed this article and would really appreciate your feedback. For now, stay safe and hopefully until next time!\n",
    "\n",
    "\n",
    "‎\n",
    "\n",
    "‎\n"
   ]
  }
 ],
 "metadata": {
  "kernelspec": {
   "display_name": "Python 3",
   "language": "python",
   "name": "python3"
  },
  "language_info": {
   "codemirror_mode": {
    "name": "ipython",
    "version": 3
   },
   "file_extension": ".py",
   "mimetype": "text/x-python",
   "name": "python",
   "nbconvert_exporter": "python",
   "pygments_lexer": "ipython3",
   "version": "3.7.9"
  },
  "widgets": {
   "application/vnd.jupyter.widget-state+json": {
    "state": {
     "0afa4e59fa414f5ba387fa8380e2c35f": {
      "model_module": "@jupyter-widgets/base",
      "model_module_version": "1.2.0",
      "model_name": "LayoutModel",
      "state": {}
     },
     "0e0e526530054fdf80fdff45f62de32c": {
      "model_module": "@jupyter-widgets/controls",
      "model_module_version": "1.5.0",
      "model_name": "DropdownModel",
      "state": {
       "_options_labels": [
        "All industries",
        "Specific industry"
       ],
       "description": "View: ",
       "index": 0,
       "layout": "IPY_MODEL_11f375c218a7478cbf05e16b21f07d56",
       "style": "IPY_MODEL_a2c6bc95095440f3b02a1cd60211d346"
      }
     },
     "0fb0143af9384cab8b0c7c8a21ad3fe4": {
      "model_module": "@jupyter-widgets/base",
      "model_module_version": "1.2.0",
      "model_name": "LayoutModel",
      "state": {}
     },
     "11f375c218a7478cbf05e16b21f07d56": {
      "model_module": "@jupyter-widgets/base",
      "model_module_version": "1.2.0",
      "model_name": "LayoutModel",
      "state": {}
     },
     "158daceb7c504fc485e22e9c526c83cf": {
      "model_module": "@jupyter-widgets/base",
      "model_module_version": "1.2.0",
      "model_name": "LayoutModel",
      "state": {}
     },
     "2bfd687206ce4c4bbf9fceef7783ccb9": {
      "model_module": "@jupyter-widgets/controls",
      "model_module_version": "1.5.0",
      "model_name": "VBoxModel",
      "state": {
       "_dom_classes": [
        "widget-interact"
       ],
       "children": [
        "IPY_MODEL_c35cec0c4e274a0a85a4df7a3ef7dfd9",
        "IPY_MODEL_4886133e8ead461d9270ee5e3af9c2d0"
       ],
       "layout": "IPY_MODEL_6ec28b5225254f118a581ab19fc2fb99"
      }
     },
     "3b94f84f8ad446e1883509bb708b2394": {
      "model_module": "@jupyter-widgets/base",
      "model_module_version": "1.2.0",
      "model_name": "LayoutModel",
      "state": {}
     },
     "4886133e8ead461d9270ee5e3af9c2d0": {
      "model_module": "@jupyter-widgets/output",
      "model_module_version": "1.0.0",
      "model_name": "OutputModel",
      "state": {
       "layout": "IPY_MODEL_bb275f5c82e24ab5b73667b296c227a1",
       "outputs": [
        {
         "data": {
          "text/html": "<div>\n<style scoped>\n    .dataframe tbody tr th:only-of-type {\n        vertical-align: middle;\n    }\n\n    .dataframe tbody tr th {\n        vertical-align: top;\n    }\n\n    .dataframe thead th {\n        text-align: right;\n    }\n</style>\n<table border=\"1\" class=\"dataframe\">\n  <thead>\n    <tr style=\"text-align: right;\">\n      <th></th>\n      <th>datetime</th>\n      <th>new_cases</th>\n      <th>new_deaths</th>\n      <th>hosp_patients</th>\n      <th>job_industry</th>\n      <th>joboffer_indicator</th>\n    </tr>\n  </thead>\n  <tbody>\n    <tr>\n      <th>0</th>\n      <td>2010-01</td>\n      <td>0.0</td>\n      <td>0.0</td>\n      <td>0.0</td>\n      <td>G-N Commerciële dienstverlening</td>\n      <td>-0.84</td>\n    </tr>\n    <tr>\n      <th>1</th>\n      <td>2010-01</td>\n      <td>0.0</td>\n      <td>0.0</td>\n      <td>0.0</td>\n      <td>F Bouwnijverheid</td>\n      <td>-1.00</td>\n    </tr>\n    <tr>\n      <th>2</th>\n      <td>2010-01</td>\n      <td>0.0</td>\n      <td>0.0</td>\n      <td>0.0</td>\n      <td>C Industrie</td>\n      <td>-0.69</td>\n    </tr>\n    <tr>\n      <th>3</th>\n      <td>2010-01</td>\n      <td>0.0</td>\n      <td>0.0</td>\n      <td>0.0</td>\n      <td>A-U Alle economische activiteiten</td>\n      <td>-0.82</td>\n    </tr>\n    <tr>\n      <th>4</th>\n      <td>2010-02</td>\n      <td>0.0</td>\n      <td>0.0</td>\n      <td>0.0</td>\n      <td>G-N Commerciële dienstverlening</td>\n      <td>-0.65</td>\n    </tr>\n    <tr>\n      <th>...</th>\n      <td>...</td>\n      <td>...</td>\n      <td>...</td>\n      <td>...</td>\n      <td>...</td>\n      <td>...</td>\n    </tr>\n    <tr>\n      <th>95</th>\n      <td>2011-12</td>\n      <td>0.0</td>\n      <td>0.0</td>\n      <td>0.0</td>\n      <td>A-U Alle economische activiteiten</td>\n      <td>-0.51</td>\n    </tr>\n    <tr>\n      <th>96</th>\n      <td>2012-01</td>\n      <td>0.0</td>\n      <td>0.0</td>\n      <td>0.0</td>\n      <td>G-N Commerciële dienstverlening</td>\n      <td>-0.53</td>\n    </tr>\n    <tr>\n      <th>97</th>\n      <td>2012-01</td>\n      <td>0.0</td>\n      <td>0.0</td>\n      <td>0.0</td>\n      <td>F Bouwnijverheid</td>\n      <td>-0.70</td>\n    </tr>\n    <tr>\n      <th>98</th>\n      <td>2012-01</td>\n      <td>0.0</td>\n      <td>0.0</td>\n      <td>0.0</td>\n      <td>C Industrie</td>\n      <td>-0.43</td>\n    </tr>\n    <tr>\n      <th>99</th>\n      <td>2012-01</td>\n      <td>0.0</td>\n      <td>0.0</td>\n      <td>0.0</td>\n      <td>A-U Alle economische activiteiten</td>\n      <td>-0.53</td>\n    </tr>\n  </tbody>\n</table>\n<p>100 rows × 6 columns</p>\n</div>",
          "text/plain": "   datetime  new_cases  new_deaths  hosp_patients  \\\n0   2010-01        0.0         0.0            0.0   \n1   2010-01        0.0         0.0            0.0   \n2   2010-01        0.0         0.0            0.0   \n3   2010-01        0.0         0.0            0.0   \n4   2010-02        0.0         0.0            0.0   \n..      ...        ...         ...            ...   \n95  2011-12        0.0         0.0            0.0   \n96  2012-01        0.0         0.0            0.0   \n97  2012-01        0.0         0.0            0.0   \n98  2012-01        0.0         0.0            0.0   \n99  2012-01        0.0         0.0            0.0   \n\n                         job_industry  joboffer_indicator  \n0     G-N Commerciële dienstverlening               -0.84  \n1                    F Bouwnijverheid               -1.00  \n2                         C Industrie               -0.69  \n3   A-U Alle economische activiteiten               -0.82  \n4     G-N Commerciële dienstverlening               -0.65  \n..                                ...                 ...  \n95  A-U Alle economische activiteiten               -0.51  \n96    G-N Commerciële dienstverlening               -0.53  \n97                   F Bouwnijverheid               -0.70  \n98                        C Industrie               -0.43  \n99  A-U Alle economische activiteiten               -0.53  \n\n[100 rows x 6 columns]"
         },
         "metadata": {},
         "output_type": "display_data"
        }
       ]
      }
     },
     "580dc3aaa7e641d1966aa4b501fbfa00": {
      "model_module": "@jupyter-widgets/controls",
      "model_module_version": "1.5.0",
      "model_name": "VBoxModel",
      "state": {
       "_dom_classes": [
        "widget-interact"
       ],
       "children": [
        "IPY_MODEL_ecdd5b62a96741648711fbaadda44aec",
        "IPY_MODEL_78ae70e1f545471e815ca5745a526388"
       ],
       "layout": "IPY_MODEL_a8dc9b4da1084cbd84954100e98c46a9"
      }
     },
     "66b714e98e6a4ef7a677d79cd21ba63a": {
      "model_module": "@jupyter-widgets/base",
      "model_module_version": "1.2.0",
      "model_name": "LayoutModel",
      "state": {}
     },
     "681de8a2b01744e1b86a004fd71e72dd": {
      "model_module": "@jupyter-widgets/controls",
      "model_module_version": "1.5.0",
      "model_name": "LinkModel",
      "state": {
       "source": [
        "IPY_MODEL_8444647f4c3d43e7bf0601ef732d58e6",
        "disabled"
       ],
       "target": [
        "IPY_MODEL_99cf5763fffe49edb934a1e51b5deebb",
        "value"
       ]
      }
     },
     "68d061dfc3a247f78abc4cc7e19d5dff": {
      "model_module": "@jupyter-widgets/controls",
      "model_module_version": "1.5.0",
      "model_name": "DescriptionStyleModel",
      "state": {
       "description_width": ""
      }
     },
     "6ec28b5225254f118a581ab19fc2fb99": {
      "model_module": "@jupyter-widgets/base",
      "model_module_version": "1.2.0",
      "model_name": "LayoutModel",
      "state": {}
     },
     "78ae70e1f545471e815ca5745a526388": {
      "model_module": "@jupyter-widgets/output",
      "model_module_version": "1.0.0",
      "model_name": "OutputModel",
      "state": {
       "layout": "IPY_MODEL_fe07cd0c3e124c41accf0cbf885fda9c",
       "outputs": [
        {
         "data": {
          "image/png": "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\n",
          "text/plain": "<Figure size 1008x432 with 2 Axes>"
         },
         "metadata": {
          "needs_background": "light"
         },
         "output_type": "display_data"
        }
       ]
      }
     },
     "7d4321949ca34c47ab2b6222535a9243": {
      "model_module": "@jupyter-widgets/output",
      "model_module_version": "1.0.0",
      "model_name": "OutputModel",
      "state": {
       "layout": "IPY_MODEL_c4b72ecad6424803b65d538555e43e9a",
       "outputs": [
        {
         "data": {
          "image/png": "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\n",
          "text/plain": "<Figure size 1080x576 with 1 Axes>"
         },
         "metadata": {
          "needs_background": "light"
         },
         "output_type": "display_data"
        }
       ]
      }
     },
     "8444647f4c3d43e7bf0601ef732d58e6": {
      "model_module": "@jupyter-widgets/controls",
      "model_module_version": "1.5.0",
      "model_name": "CheckboxModel",
      "state": {
       "description": "Zoom in",
       "disabled": false,
       "layout": "IPY_MODEL_98cd6e7875524ac8a8f79ee5f6c47dba",
       "style": "IPY_MODEL_8af4e79ad46b475da4debd106bc364dd",
       "value": true
      }
     },
     "8af4e79ad46b475da4debd106bc364dd": {
      "model_module": "@jupyter-widgets/controls",
      "model_module_version": "1.5.0",
      "model_name": "DescriptionStyleModel",
      "state": {
       "description_width": ""
      }
     },
     "98cd6e7875524ac8a8f79ee5f6c47dba": {
      "model_module": "@jupyter-widgets/base",
      "model_module_version": "1.2.0",
      "model_name": "LayoutModel",
      "state": {}
     },
     "99cf5763fffe49edb934a1e51b5deebb": {
      "model_module": "@jupyter-widgets/controls",
      "model_module_version": "1.5.0",
      "model_name": "CheckboxModel",
      "state": {
       "description": "Zoom out",
       "disabled": true,
       "layout": "IPY_MODEL_0afa4e59fa414f5ba387fa8380e2c35f",
       "style": "IPY_MODEL_ce2b88e8afb64a6f95dc7eb387d02afa",
       "value": false
      }
     },
     "a2c6bc95095440f3b02a1cd60211d346": {
      "model_module": "@jupyter-widgets/controls",
      "model_module_version": "1.5.0",
      "model_name": "DescriptionStyleModel",
      "state": {
       "description_width": ""
      }
     },
     "a8dc9b4da1084cbd84954100e98c46a9": {
      "model_module": "@jupyter-widgets/base",
      "model_module_version": "1.2.0",
      "model_name": "LayoutModel",
      "state": {}
     },
     "b0c4b750e627497aa29c1be67806ac43": {
      "model_module": "@jupyter-widgets/controls",
      "model_module_version": "1.5.0",
      "model_name": "VBoxModel",
      "state": {
       "children": [
        "IPY_MODEL_d7ac5242f7554f65bb17d5ad659934ff",
        "IPY_MODEL_7d4321949ca34c47ab2b6222535a9243"
       ],
       "layout": "IPY_MODEL_0fb0143af9384cab8b0c7c8a21ad3fe4"
      }
     },
     "bb275f5c82e24ab5b73667b296c227a1": {
      "model_module": "@jupyter-widgets/base",
      "model_module_version": "1.2.0",
      "model_name": "LayoutModel",
      "state": {}
     },
     "c0bdbc3ad2d04509a447cbe72b8bbe51": {
      "model_module": "@jupyter-widgets/base",
      "model_module_version": "1.2.0",
      "model_name": "LayoutModel",
      "state": {}
     },
     "c2e5c53745584aa5a3849df4d895aee5": {
      "model_module": "@jupyter-widgets/output",
      "model_module_version": "1.0.0",
      "model_name": "OutputModel",
      "state": {
       "layout": "IPY_MODEL_d56e5416eb6d479c9f604574138c9354"
      }
     },
     "c35cec0c4e274a0a85a4df7a3ef7dfd9": {
      "model_module": "@jupyter-widgets/controls",
      "model_module_version": "1.5.0",
      "model_name": "IntRangeSliderModel",
      "state": {
       "_model_name": "IntRangeSliderModel",
       "_view_name": "IntRangeSliderView",
       "description": "Rows",
       "layout": "IPY_MODEL_66b714e98e6a4ef7a677d79cd21ba63a",
       "max": 532,
       "style": "IPY_MODEL_c653537325a44d0d8467f1a5bf4773ea",
       "value": [
        0,
        100
       ]
      }
     },
     "c4b72ecad6424803b65d538555e43e9a": {
      "model_module": "@jupyter-widgets/base",
      "model_module_version": "1.2.0",
      "model_name": "LayoutModel",
      "state": {}
     },
     "c653537325a44d0d8467f1a5bf4773ea": {
      "model_module": "@jupyter-widgets/controls",
      "model_module_version": "1.5.0",
      "model_name": "SliderStyleModel",
      "state": {
       "description_width": ""
      }
     },
     "ca0b3384afad483ba8d794c5776acd4a": {
      "model_module": "@jupyter-widgets/controls",
      "model_module_version": "1.5.0",
      "model_name": "LinkModel",
      "state": {
       "source": [
        "IPY_MODEL_99cf5763fffe49edb934a1e51b5deebb",
        "disabled"
       ],
       "target": [
        "IPY_MODEL_8444647f4c3d43e7bf0601ef732d58e6",
        "value"
       ]
      }
     },
     "ce2b88e8afb64a6f95dc7eb387d02afa": {
      "model_module": "@jupyter-widgets/controls",
      "model_module_version": "1.5.0",
      "model_name": "DescriptionStyleModel",
      "state": {
       "description_width": ""
      }
     },
     "d56e5416eb6d479c9f604574138c9354": {
      "model_module": "@jupyter-widgets/base",
      "model_module_version": "1.2.0",
      "model_name": "LayoutModel",
      "state": {}
     },
     "d7ac5242f7554f65bb17d5ad659934ff": {
      "model_module": "@jupyter-widgets/controls",
      "model_module_version": "1.5.0",
      "model_name": "HBoxModel",
      "state": {
       "children": [
        "IPY_MODEL_8444647f4c3d43e7bf0601ef732d58e6",
        "IPY_MODEL_99cf5763fffe49edb934a1e51b5deebb"
       ],
       "layout": "IPY_MODEL_3b94f84f8ad446e1883509bb708b2394"
      }
     },
     "ecdd5b62a96741648711fbaadda44aec": {
      "model_module": "@jupyter-widgets/controls",
      "model_module_version": "1.5.0",
      "model_name": "DropdownModel",
      "state": {
       "_options_labels": [
        "F Construction industry",
        "C Manifacturing industry",
        "G-N Commercial services",
        "A-U All economic activities"
       ],
       "description": "Industry: ",
       "disabled": true,
       "index": null,
       "layout": "IPY_MODEL_158daceb7c504fc485e22e9c526c83cf",
       "style": "IPY_MODEL_68d061dfc3a247f78abc4cc7e19d5dff"
      }
     },
     "f3eba2e20ce04b6e8824758fbcfe368a": {
      "model_module": "@jupyter-widgets/controls",
      "model_module_version": "1.5.0",
      "model_name": "VBoxModel",
      "state": {
       "_dom_classes": [
        "widget-interact"
       ],
       "children": [
        "IPY_MODEL_0e0e526530054fdf80fdff45f62de32c",
        "IPY_MODEL_c2e5c53745584aa5a3849df4d895aee5"
       ],
       "layout": "IPY_MODEL_c0bdbc3ad2d04509a447cbe72b8bbe51"
      }
     },
     "fe07cd0c3e124c41accf0cbf885fda9c": {
      "model_module": "@jupyter-widgets/base",
      "model_module_version": "1.2.0",
      "model_name": "LayoutModel",
      "state": {}
     }
    },
    "version_major": 2,
    "version_minor": 0
   }
  }
 },
 "nbformat": 4,
 "nbformat_minor": 4
}
